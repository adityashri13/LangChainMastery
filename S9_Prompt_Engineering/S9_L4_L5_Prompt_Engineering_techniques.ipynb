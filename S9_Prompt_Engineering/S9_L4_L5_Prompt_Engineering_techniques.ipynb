{
 "cells": [
  {
   "cell_type": "markdown",
   "metadata": {},
   "source": [
    "## Exploring Various Techniques for Drafting Personalized Customer Responses"
   ]
  },
  {
   "cell_type": "markdown",
   "metadata": {},
   "source": [
    "In this session, we will explore different prompt engineering techniques using a single use case: **Drafting Personalized Customer Responses**. These techniques include N-Shot Prompting, Multi-Step Prompting, and Chain-of-Thought Prompting."
   ]
  },
  {
   "cell_type": "markdown",
   "metadata": {},
   "source": [
    "### 1. N-Shot Prompting"
   ]
  },
  {
   "cell_type": "markdown",
   "metadata": {},
   "source": [
    "#### 1.1 Zero-shot Prompting\n",
    "In Zero shot Prompting, you give model a single query or instruction without any examples. The model relies on its pre-existing knowledge to generate a response based on the given prompt. It is essentially what we usually write."
   ]
  },
  {
   "cell_type": "code",
   "execution_count": null,
   "metadata": {},
   "outputs": [],
   "source": [
    "!pip install langchain_openai\n",
    "!pip install langchain_core"
   ]
  },
  {
   "cell_type": "code",
   "execution_count": null,
   "metadata": {},
   "outputs": [],
   "source": [
    "from langchain_openai import ChatOpenAI\n",
    "from langchain_core.output_parsers import StrOutputParser\n",
    "from langchain_core.prompts import ChatPromptTemplate\n",
    "from langchain_core.messages import SystemMessage, HumanMessage"
   ]
  },
  {
   "cell_type": "code",
   "execution_count": null,
   "metadata": {},
   "outputs": [],
   "source": [
    "OPENAI_API_KEY=\"<PUT_KEY_HERE>\""
   ]
  },
  {
   "cell_type": "code",
   "execution_count": null,
   "metadata": {},
   "outputs": [],
   "source": [
    "model = ChatOpenAI(model=\"gpt-4o-mini-0125\", openai_api_key=OPENAI_API_KEY)\n",
    "\n",
    "def generate_response(prompt: str):\n",
    "    chat_prompt_template = ChatPromptTemplate.from_messages(\n",
    "        [\n",
    "            SystemMessage(content=(\"You are a helpful assistant\")),\n",
    "            HumanMessage(content=prompt),\n",
    "        ]\n",
    "    )\n",
    "\n",
    "    # return chat_prompt_template.invoke({\"prompt\": prompt})\n",
    "    \n",
    "    chain = chat_prompt_template | model | StrOutputParser()\n",
    "    \n",
    "    response = chain.invoke({\"prompt\": prompt})\n",
    "\n",
    "    return response"
   ]
  },
  {
   "cell_type": "code",
   "execution_count": null,
   "metadata": {},
   "outputs": [],
   "source": [
    "# Zero-shot Prompting\n",
    "prompt = \"\"\"\n",
    "Q: Draft a personalized response to a customer inquiry about product availability.\n",
    "A: \n",
    "\"\"\"\n",
    "result = generate_response(prompt)\n",
    "print(\"Result:\\n\", result)"
   ]
  },
  {
   "cell_type": "markdown",
   "metadata": {},
   "source": [
    "#### 1.2 One-shot Prompting\n",
    "One-shot Prompting involves providing the model with one example along with the query or instruction. This single example helps the model to understand to certain degree about desired format and context."
   ]
  },
  {
   "cell_type": "code",
   "execution_count": null,
   "metadata": {},
   "outputs": [],
   "source": [
    "# One-shot Prompting\n",
    "prompt = \"\"\"\n",
    "Q: I’m experiencing issues with the payment process on your website. Can you assist me?\n",
    "A: Dear [Customer's Name],\n",
    "Thank you for bringing this to our attention. I’m sorry to hear that you’re having trouble with the payment process. I’ve reported the issue to our technical team, and we’re working to resolve it as quickly as possible. In the meantime, you can try using a different payment method or browser. Please let me know if this helps, or if you need further assistance.\n",
    "Best regards,  \n",
    "[Your Full Name]  \n",
    "[Your Position]  \n",
    "[Company Name]\n",
    "\n",
    "Q: Draft a personalized response to a customer inquiry about product availability.\n",
    "A: \n",
    "\"\"\"\n",
    "result = generate_response(prompt)\n",
    "print(\"Result:\\n\", result)"
   ]
  },
  {
   "cell_type": "markdown",
   "metadata": {},
   "source": [
    "#### 1.3 Few-shot Prompting\n",
    "Few-shot Prompting includes a few examples along with the query or instruction. These examples help the model understand to understand more about the desired format and context, improving the relevance and accuracy of the response."
   ]
  },
  {
   "cell_type": "code",
   "execution_count": null,
   "metadata": {},
   "outputs": [],
   "source": [
    "# Few-shot Prompting\n",
    "prompt = \"\"\"\n",
    "Q: I’m experiencing issues with the payment process on your website. Can you assist me?\n",
    "A: Dear [Customer's Name],\n",
    "Thank you for bringing this to our attention. I’m sorry to hear that you’re having trouble with the payment process. I’ve reported the issue to our technical team, and we’re working to resolve it as quickly as possible. In the meantime, you can try using a different payment method or browser. Please let me know if this helps, or if you need further assistance.\n",
    "Best regards,\n",
    "[Your Full Name]\n",
    "[Your Position]\n",
    "[Company Name]\n",
    "\n",
    "Q: Can you help me with changing the shipping address for my order?\n",
    "A: Dear [Customer's Name],\n",
    "Thank you for reaching out to us with your request. I understand how important it is to have your order shipped to the correct address. I’ve updated your order with the new address, and it will be shipped to [new address]. Please feel free to contact me if there are any other changes you need or if you have any questions.\n",
    "Best regards,\n",
    "[Your Full Name]\n",
    "[Your Position]\n",
    "[Company Name]\n",
    "\n",
    "Q: Draft a personalized response to a customer inquiry about product availability.\n",
    "A: \n",
    "\"\"\"\n",
    "result = generate_response(prompt)\n",
    "print(\"Result:\\n\", result)"
   ]
  },
  {
   "cell_type": "markdown",
   "metadata": {},
   "source": [
    "### 2. Multi-Step Prompting\n",
    "Multi-step prompting breaks down a goal into smaller steps, guiding the model through each step to improve accuracy. This technique benefits sequential tasks, like generating coherent text from an outline, which need ordered steps. Cognitive tasks, such as evaluating a solution's correctness, also utilize multi-step prompts as they involve problem-solving and decision-making processes."
   ]
  },
  {
   "cell_type": "code",
   "execution_count": null,
   "metadata": {},
   "outputs": [],
   "source": [
    "# Multi-Step Prompting\n",
    "prompt = \"\"\"\n",
    "Q: Draft a response to a customer who is asking about a delayed order.\n",
    "A: \n",
    "\"\"\"\n",
    "result = generate_response(prompt)\n",
    "print(\"Result:\\n\", result)"
   ]
  },
  {
   "cell_type": "code",
   "execution_count": null,
   "metadata": {},
   "outputs": [],
   "source": [
    "# Detailed Multi-Step Prompting\n",
    "prompt = \"\"\"\n",
    "Q: Draft a response to a customer who is asking about a delayed order as follows:\n",
    "Step 1: Acknowledge the delay and apologize sincerely.\n",
    "Step 2: Explain the reason for the delay (if known) and provide an update on the order status.\n",
    "Step 3: Offer a solution or alternative if necessary (e.g., expedited shipping, discount).\n",
    "Step 4: Reassure the customer and express gratitude for their patience.\n",
    "\n",
    "A: \n",
    "\"\"\"\n",
    "result = generate_response(prompt)\n",
    "print(\"Result:\\n\", result)"
   ]
  },
  {
   "cell_type": "code",
   "execution_count": null,
   "metadata": {},
   "outputs": [],
   "source": [
    "# code with multi step\n",
    "prompt = \"\"\"\n",
    "Determine the correctness of the code.\n",
    "\n",
    "Code:\n",
    "def calculate_total_price(price, quantity, tax_rate):\n",
    "    total = price * quantity\n",
    "    tax = total * tax_rate\n",
    "    return total + tax\n",
    "    \n",
    "\n",
    "A: \n",
    "\"\"\"\n",
    "result = generate_response(prompt)\n",
    "print(\"Result:\\n\", result)"
   ]
  },
  {
   "cell_type": "code",
   "execution_count": null,
   "metadata": {},
   "outputs": [],
   "source": [
    "# code with multi step\n",
    "prompt = \"\"\"\n",
    "Determine the correctness of the code delimited by triple backticks as follows:\n",
    "\n",
    "Step 1: Check the code correctness and ensure it accurately calculates the total price including tax.\n",
    "Step 2: Verify that the function correctly handles edge cases, such as when quantity is zero, tax_rate is zero, or when either price or quantity are negative.\n",
    "Step 3: Ensure that the function returns a value formatted to two decimal places, suitable for representing currency.\n",
    "Step 4: Suggest improvements if the code can be optimized for better readability or performance.\n",
    "\n",
    "Code:\n",
    "def calculate_total_price(price, quantity, tax_rate):\n",
    "    total = price * quantity\n",
    "    tax = total * tax_rate\n",
    "    return total + tax\n",
    "    \n",
    "\n",
    "A: \n",
    "\"\"\"\n",
    "result = generate_response(prompt)\n",
    "print(\"Result:\\n\", result)"
   ]
  },
  {
   "cell_type": "markdown",
   "metadata": {},
   "source": [
    "### 3. Chain-of-Thought Prompting\n",
    "Chain-of-thought prompting involves breaking down the reasoning process into a series of steps, guiding the model through a logical progression to arrive at the answer."
   ]
  },
  {
   "cell_type": "code",
   "execution_count": null,
   "metadata": {},
   "outputs": [],
   "source": [
    "# Chain-of-Thought Prompting\n",
    "prompt = \"\"\"\n",
    "A customer has complained about a late delivery. Let’s break down how to respond step by step:\n",
    "- Acknowledge the complaint and empathize with the customer.\n",
    "- Apologize sincerely for the inconvenience caused by the delay.\n",
    "- Provide an explanation for the delay if available, and reassure the customer that the issue is being addressed.\n",
    "- Offer a solution or compensation to make up for the delay, such as expedited shipping or a discount on their next purchase.\n",
    "- Express gratitude for the customer's patience and loyalty.\n",
    "- Encourage the customer to reach out with any further questions or concerns.\n",
    "\n",
    "\n",
    "Email:\n",
    "```\n",
    "Subject: Delay in Delivery – Order #7891011\n",
    "\n",
    "Hi there,\n",
    "\n",
    "I wanted to check in about my recent order, as it was supposed to arrive a few days ago, but I haven’t received it yet. This delay is a bit frustrating since I was counting on having it by now for an upcoming event.\n",
    "\n",
    "Could you please let me know what’s going on with the delivery and when I can expect to receive it?\n",
    "\n",
    "Thanks for your help!\n",
    "[Customer Name]\n",
    "```\n",
    "\"\"\"\n",
    "result = generate_response(prompt)\n",
    "print(\"Result:\\n\", result)"
   ]
  },
  {
   "cell_type": "code",
   "execution_count": null,
   "metadata": {},
   "outputs": [],
   "source": [
    "# One-shot Chain-of-Thought Prompting\n",
    "prompt = \"\"\"\n",
    "Q: Multiply the odd numbers in the following set: {3, 8, 5, 12, 7}.\n",
    "A: Odd numbers: 3, 5, 7. Multiplying them: 3 * 5 * 7 = 105\n",
    "\n",
    "Q: {6, 11, 15, 2, 9} \n",
    "A:\n",
    "\"\"\"\n",
    "result = generate_response(prompt)\n",
    "print(\"Result:\\n\", result)"
   ]
  },
  {
   "cell_type": "code",
   "execution_count": null,
   "metadata": {},
   "outputs": [],
   "source": [
    "import pandas as pd\n",
    "\n",
    "pd.set_option('display.max_colwidth', None)  # Ensures columns are not truncated\n",
    "pd.set_option('display.max_rows', None)  # Displays all rows\n",
    "pd.set_option('display.max_columns', None)  # Displays all columns\n",
    "\n",
    "\n",
    "# Define the data\n",
    "data = {\n",
    "    \"Aspect\": [\n",
    "        \"Approach\", \"Structure\", \"Guidance\", \"Creativity\", \n",
    "        \"Predictability\", \"Use Case\"\n",
    "    ],\n",
    "    \"Chain of Thought Prompting\": [\n",
    "        \"Process-Oriented: Guides AI through a logical thought process.\", \n",
    "        \"Flexible: Allows for a more natural, fluid response.\",\n",
    "        \"Internal Guidance: AI organizes the response based on thought process.\",\n",
    "        \"Higher: AI has more creative freedom in how it weaves the response.\",\n",
    "        \"Less Predictable: Outcome may vary as AI processes each step.\",\n",
    "        \"Ideal for responses requiring logical flow and depth.\"\n",
    "    ],\n",
    "    \"Multi-Step Prompting\": [\n",
    "        \"Structured: Provides explicit, ordered instructions.\", \n",
    "        \"Rigid: Response follows a predefined structure.\",\n",
    "        \"External Guidance: AI follows explicit steps in the response.\",\n",
    "        \"Lower: AI adheres closely to the provided steps.\",\n",
    "        \"More Predictable: Outcome is consistent with the steps provided.\",\n",
    "        \"Ideal for responses needing clear, step-by-step structure.\"\n",
    "    ]\n",
    "}\n",
    "\n",
    "# Create DataFrame\n",
    "df = pd.DataFrame(data)\n",
    "\n",
    "# Display the table\n",
    "df\n"
   ]
  },
  {
   "cell_type": "markdown",
   "metadata": {},
   "source": [
    "#### Chain-of-Thought Limitation\n",
    "One limitation of chain-of-thought prompting is that one thought with flawed reasoning will lead to an unsuccessful outcome. This is where self-consistency prompts come in."
   ]
  },
  {
   "cell_type": "markdown",
   "metadata": {},
   "source": [
    "### 4. Self consistency Prompting\n",
    "Self-consistency prompting is a technique that generates multiple chain-of-thought responses by prompting the model several times. The final output is determined by a majority vote, selecting the most common response as the result.\n",
    "\n",
    " \n",
    "\n",
    "- Generates multiple chain-of-thoughts by prompting the model several times\n",
    "- Majority vote to obtain final output"
   ]
  },
  {
   "cell_type": "code",
   "execution_count": null,
   "metadata": {},
   "outputs": [],
   "source": [
    "# Self consistency Prompting\n",
    "prompt = \"\"\"\n",
    "Imagine three completely independent experts who reason differently are answering this question. The final answer is obtained by majority vote. The question is:\n",
    "\n",
    "A warehouse starts with 120 boxes. 30 boxes are shipped out, and then the warehouse receives 25 new boxes. Afterward, the warehouse staff discovers that 10 boxes are damaged and removes them. Finally, the warehouse ships out 20 more boxes. How many boxes are left in the warehouse? \n",
    "\"\"\"\n",
    "\n",
    "result = generate_response(prompt)\n",
    "print(\"Result:\\n\", result)"
   ]
  },
  {
   "cell_type": "markdown",
   "metadata": {},
   "source": [
    "### 5. Prompt Chaining\n",
    "Prompt chaining involves linking multiple prompts together to create a coherent sequence of interactions. Each prompt builds on the response from the previous one. This is useful when you can not give all instruction to model, in one single go, like chain of thought prompting.\n",
    "\n",
    "Here's how you can create a prompt using Prompt Chaining for the scenario ‘Customer Complaint about a Late Delivery’."
   ]
  },
  {
   "cell_type": "markdown",
   "metadata": {},
   "source": [
    "#### Step 1: Identify the Main Issue"
   ]
  },
  {
   "cell_type": "code",
   "execution_count": null,
   "metadata": {},
   "outputs": [],
   "source": [
    "prompt = \"\"\"\n",
    "Read the following customer email in triple back ticks and identify the main issue they are raising:\n",
    "\n",
    "Email:\n",
    "```\n",
    "Subject: Received Damaged Product - Order #123456\n",
    "\n",
    "Hi [Customer Support Team],\n",
    "\n",
    "I received my order today, but unfortunately, the product is damaged. The item is not usable, and I need a replacement or refund as soon as possible.\n",
    "\n",
    "Please advise on how to proceed.\n",
    "\n",
    "Thanks,\n",
    "[Your Name]\n",
    "```\n",
    "\"\"\"\n",
    "result = generate_response(prompt)\n",
    "print(\"Result:\\n\", result)"
   ]
  },
  {
   "cell_type": "markdown",
   "metadata": {},
   "source": [
    "#### Step 2: Consider Potential Reasons for the Issue"
   ]
  },
  {
   "cell_type": "code",
   "execution_count": null,
   "metadata": {},
   "outputs": [],
   "source": [
    "prompt = \"\"\"\n",
    "Now that you've identified the issue ‘received a damaged product and are requesting a replacement or refund as soon as possible.'. Pick suggested option from given json.\n",
    "\n",
    "JSON:\n",
    "{\n",
    "  \"IssueType\": [\n",
    "    {\n",
    "      \"type\": \"Wrong Item Received\",\n",
    "      \"suggestedResponse\": \"The mix-up could be due to a fulfillment or packaging error at the warehouse. The impact is that the customer does not have the correct item for their intended use, causing frustration and inconvenience.\"\n",
    "    },\n",
    "    {\n",
    "      \"type\": \"Delayed Delivery\",\n",
    "      \"suggestedResponse\": \"The delay could be caused by shipping carrier issues, weather disruptions, or high order volumes. This impacts the customer by delaying their plans, especially if the item is time-sensitive.\"\n",
    "    },\n",
    "    {\n",
    "      \"type\": \"Received Damaged Product\",\n",
    "      \"suggestedResponse\": \"The damage might have occurred during shipping due to inadequate packaging or mishandling by the carrier. This significantly impacts the customer’s experience, as they received a non-functional or unsatisfactory product.\"\n",
    "    },\n",
    "    {\n",
    "      \"type\": \"Product Out of Stock\",\n",
    "      \"suggestedResponse\": \"The product might be out of stock due to high demand, supply chain issues, or inventory mismanagement. This affects the customer’s ability to purchase the desired product, potentially leading to disappointment.\"\n",
    "    }\n",
    "  ]\n",
    "}\n",
    "\n",
    "\"\"\"\n",
    "result = generate_response(prompt)\n",
    "print(\"Result:\\n\", result)"
   ]
  },
  {
   "cell_type": "markdown",
   "metadata": {},
   "source": [
    "#### Step 3: Assess the Urgency and Significance"
   ]
  },
  {
   "cell_type": "code",
   "execution_count": null,
   "metadata": {},
   "outputs": [],
   "source": [
    "prompt = \"\"\"\n",
    "Assess the urgency and significance of the issue based on the customer’s email,given in triple back ticks. Use below json to generate response. Give me reply in one word.\n",
    "\n",
    "Customer email:\n",
    "```\n",
    "Subject: Received Damaged Product - Order #123456\n",
    "\n",
    "Hi [Customer Support Team],\n",
    "\n",
    "I received my order today, but unfortunately, the product is damaged. The item is not usable, and I need a replacement or refund as soon as possible.\n",
    "\n",
    "Please advise on how to proceed.\n",
    "\n",
    "Thanks,\n",
    "[Your Name]\n",
    "```\n",
    "\n",
    "json:\n",
    "{\n",
    "  \"IssueType\": [\n",
    "    {\n",
    "      \"type\": \"Wrong Item Received\",\n",
    "      \"suggestedResponse\": \"HIGH\"\n",
    "    },\n",
    "    {\n",
    "      \"type\": \"Delayed Delivery\",\n",
    "      \"suggestedResponse\": \"MODERATE\"\n",
    "    },\n",
    "    {\n",
    "      \"type\": \"Received Damaged Product\",\n",
    "      \"suggestedResponse\": \"HIGH\"\n",
    "    },\n",
    "    {\n",
    "      \"type\": \"Product Out of Stock\",\n",
    "      \"suggestedResponse\": \"MODERATE\"\n",
    "  ]\n",
    "}\n",
    "\"\"\"\n",
    "result = generate_response(prompt)\n",
    "print(\"Result:\\n\", result)"
   ]
  },
  {
   "cell_type": "markdown",
   "metadata": {},
   "source": [
    "#### Step 4: Determine the Appropriate Response"
   ]
  },
  {
   "cell_type": "code",
   "execution_count": null,
   "metadata": {},
   "outputs": [],
   "source": [
    "prompt = \"\"\"\n",
    "Based on the issue identified (received a damaged product and are requesting a replacement or refund as soon as possible.), determine the appropriate response using the following json. Consider the best solution that addresses the customer’s needs and urgency.\n",
    "\n",
    "customer email:\n",
    "```\n",
    "Subject: Received Damaged Product - Order #123456\n",
    "\n",
    "Hi [Customer Support Team],\n",
    "\n",
    "I received my order today, but unfortunately, the product is damaged. The item is not usable, and I need a replacement or refund as soon as possible.\n",
    "\n",
    "Please advise on how to proceed.\n",
    "\n",
    "Thanks,\n",
    "[Your Name]\n",
    "```\n",
    "\n",
    "URGENCY: HIGH\n",
    "\n",
    "json:\n",
    "{\n",
    "  \"IssueType\": [\n",
    "    {\n",
    "      \"type\": \"Wrong Item Received\",\n",
    "      \"suggestedResponse\": \"Apologize for the mistake and offer to send the correct item immediately. Provide a prepaid return label for the incorrect item and offer to expedite the correct order to meet the customer’s timeline.\"\n",
    "    },\n",
    "    {\n",
    "      \"type\": \"Delayed Delivery\",\n",
    "      \"suggestedResponse\": \"Apologize for the delay and assure the customer that you are investigating the status of their order. Provide an estimated delivery date and offer a discount or expedited shipping on their next purchase as a goodwill gesture.\"\n",
    "    },\n",
    "    {\n",
    "      \"type\": \"Received Damaged Product\",\n",
    "      \"suggestedResponse\": \"Express regret that the product arrived damaged and offer an immediate replacement or refund. Provide instructions for returning the damaged item, and offer to cover return shipping costs.\"\n",
    "    },\n",
    "    {\n",
    "      \"type\": \"Product Out of Stock\",\n",
    "      \"suggestedResponse\": \"Inform the customer that the product is currently out of stock and offer alternatives, such as a similar product or notifying them when the item is back in stock. Provide an estimated restock date if available.\"\n",
    "    }\n",
    "  ]\n",
    "}\n",
    "\n",
    "\"\"\"\n",
    "result = generate_response(prompt)\n",
    "print(\"Result:\\n\", result)"
   ]
  },
  {
   "cell_type": "markdown",
   "metadata": {},
   "source": [
    "## 6. Negative Prompting\n",
    "Negative prompting guides the model by specifying what not to include in the response. This helps in..\n",
    "\n",
    "- **Explicitly Instructing What to Avoid**: You provide specific instructions to the model about what should not be included or considered in the response.\n",
    "\n",
    "- **Preventing Common Errors**: This technique can help prevent common mistakes or irrelevant details from being introduced into the response.\n",
    "\n",
    "- **Enhancing Response Quality**: By eliminating unnecessary or unwanted information, the final output is more accurate, relevant, and aligned with the desired outcome.\n",
    "\n",
    "\n",
    "#### Possible Negative Prompting Instructions for our example:\n",
    "\n",
    "- **Limit Apologies**:\n",
    "\n",
    "Do not include more than one apology in the response. The apology should be sincere and placed at the beginning of the message.\n",
    "\n",
    "- **Stay Focused on the Issue**:\n",
    "\n",
    "Do not mention any other products or services. The response should focus solely on the damaged product and the options for resolution.\n",
    "\n",
    "- **Avoid Defensive Language**:\n",
    "\n",
    "Do not imply that the issue might be the customer’s fault, and avoid using any language that could be perceived as defensive or dismissive.\n",
    "\n",
    "- **Keep the Response Concise**:\n",
    "\n",
    "Do not include overly detailed explanations of the shipping process, packaging standards, or other logistical details that the customer did not ask for. The focus should be on resolving the issue quickly and effectively.\n",
    "\n",
    "- **No Conditional Statements**:\n",
    "\n",
    "Avoid using conditional language (e.g., “If you followed the instructions…” or “If the product was damaged in transit…”). The response should acknowledge the issue and offer a clear resolution without questioning the customer’s experience."
   ]
  },
  {
   "cell_type": "code",
   "execution_count": null,
   "metadata": {},
   "outputs": [],
   "source": [
    "# Negative Prompting\n",
    "prompt = \"\"\"\n",
    "You are a customer support representative responding to a customer who received a damaged product and is requesting a replacement or refund. Please follow these steps to draft your response:\n",
    "\n",
    "- Limit Apologies\n",
    "- Stay focused on the issue\n",
    "- Avoid Defensive Language\n",
    "- Keep the Response Concise\n",
    "- No Conditional Statements\n",
    "\n",
    "Customer Email:\n",
    "```\n",
    "Subject: Received Damaged Product - Order #123456\n",
    "\n",
    "Hi [Customer Support Team],\n",
    "\n",
    "I received my order today, but unfortunately, the product is damaged. The item is not usable, and I need a replacement or refund as soon as possible.\n",
    "\n",
    "Please advise on how to proceed.\n",
    "\n",
    "Thanks,  \n",
    "[Your Name]\n",
    "```\n",
    "\"\"\"\n",
    "\n",
    "result = generate_response(prompt)\n",
    "print(\"Result:\\n\", result)"
   ]
  },
  {
   "cell_type": "markdown",
   "metadata": {},
   "source": [
    "### 7. Hybrid Prompting\n",
    "Hybrid prompting combines multiple techniques to leverage their strengths and achieve more nuanced and accurate responses."
   ]
  },
  {
   "cell_type": "markdown",
   "metadata": {},
   "source": [
    "**Using Few-Shot, Chain of Thought, and Negative Prompting Techniques to create a prompt**"
   ]
  },
  {
   "cell_type": "code",
   "execution_count": null,
   "metadata": {},
   "outputs": [],
   "source": [
    "# using Few-Shot, Chain of Thought, and Negative Prompting\n",
    "prompt = \"\"\"\n",
    "Instruction: You are a customer support representative for an e-commerce company. Your task is to respond to a customer email. Follow these guidelines to craft a high-quality response:\n",
    "\n",
    "Look at these examples of excellent customer support responses:\n",
    "\n",
    "Example 1: \"Dear [Customer Name], I'm truly sorry to hear about the issue with your order. We deeply value your satisfaction and will resolve this quickly. Please let me know if you prefer a replacement or a refund, and I will take care of it right away.\"\n",
    "\n",
    "Example 2: \"Hi [Customer Name], I apologize for the inconvenience caused by the issue with your product. We want to make this right. Could you please provide more details or a photo? This will help us speed up the process for your replacement or refund.\"\n",
    "\n",
    "\n",
    "While creating response, keep below in mind:\n",
    "\n",
    "- Limit Apologies\n",
    "- Stay Focused on the Issue\n",
    "- Avoid Defensive Language\n",
    "- Keep the Response Concise\n",
    "- No Conditional Statements\n",
    "\n",
    "\n",
    "Structure your response with these steps:\n",
    "\n",
    "- Acknowledge the complaint and empathize with the customer.\n",
    "- Apologize sincerely for the inconvenience caused by the issue.\n",
    "- Provide an explanation for the issue, and reassure the customer that the issue is being addressed.\n",
    "- Offer a solution or compensation\n",
    "- Express gratitude for the customer's patience and loyalty.\n",
    "- Encourage the customer to reach out with any further questions or concerns.\n",
    "\n",
    "Customer Email:\n",
    "\n",
    "'Subject: Received Damaged Product - Order #123456\n",
    "\n",
    "Hi [Customer Support Team],\n",
    "\n",
    "I received my order today, but unfortunately, the product is damaged. The item is not usable, and I need a replacement or refund as soon as possible.\n",
    "\n",
    "Please advise on how to proceed.\n",
    "\n",
    "Thanks,  \n",
    "[Your Name]'\n",
    "\"\"\"\n",
    "\n",
    "result = generate_response(prompt)\n",
    "print(\"Result:\\n\", result)"
   ]
  },
  {
   "cell_type": "code",
   "execution_count": null,
   "metadata": {},
   "outputs": [],
   "source": []
  }
 ],
 "metadata": {
  "kernelspec": {
   "display_name": "Python 3 (ipykernel)",
   "language": "python",
   "name": "python3"
  },
  "language_info": {
   "codemirror_mode": {
    "name": "ipython",
    "version": 3
   },
   "file_extension": ".py",
   "mimetype": "text/x-python",
   "name": "python",
   "nbconvert_exporter": "python",
   "pygments_lexer": "ipython3",
   "version": "3.10.12"
  }
 },
 "nbformat": 4,
 "nbformat_minor": 4
}
